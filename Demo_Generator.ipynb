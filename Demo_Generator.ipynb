{
 "cells": [
  {
   "cell_type": "code",
   "execution_count": 8,
   "metadata": {
    "collapsed": false
   },
   "outputs": [
    {
     "name": "stdout",
     "output_type": "stream",
     "text": [
      "[2, 3, 5, 7, 11, 13, 17, 19, 23, 29, 31, 37, 41, 43, 47, 53, 59, 61, 67, 71, 73, 79, 83, 89, 97, 101, 103, 107, 109, 113, 127, 131, 137, 139, 149, 151, 157, 163, 167, 173, 179, 181, 191, 193, 197, 199, 211, 223, 227, 229, 233, 239, 241, 251, 257, 263, 269, 271, 277, 281, 283, 293, 307, 311, 313, 317, 331, 337, 347, 349, 353, 359, 367, 373, 379, 383, 389, 397, 401, 409, 419, 421, 431, 433, 439, 443, 449, 457, 461, 463, 467, 479, 487, 491, 499, 503, 509, 521, 523, 541, 547, 557, 563, 569, 571, 577, 587, 593, 599, 601, 607, 613, 617, 619, 631, 641, 643, 647, 653, 659, 661, 673, 677, 683, 691, 701, 709, 719, 727, 733, 739, 743, 751, 757, 761, 769, 773, 787, 797, 809, 811, 821, 823, 827, 829, 839, 853, 857, 859, 863, 877, 881, 883, 887, 907, 911, 919, 929, 937, 941, 947, 953, 967, 971, 977, 983, 991, 997]\n",
      "2\n",
      "<generator object get_primes_generator at 0x7fe714e8a960>\n",
      "2\n",
      "3\n",
      "5\n"
     ]
    }
   ],
   "source": [
    "import Calculator \n",
    "\n",
    "from Calculator import get_primes_using_generator_iterator\n",
    "\n",
    "# print(get_primes_using_generator_iterator.get_primes_generator(range(100)))\n",
    "\n",
    "list_primes=get_primes_using_generator_iterator.get_primes_normal(range(1000))\n",
    "\n",
    "print(list_primes)\n",
    "\n",
    "print(list_primes[0])\n",
    "generator_o = get_primes_using_generator_iterator.get_primes_generator(range(1000))\n",
    "\n",
    "print(generator_o)\n",
    "\n",
    "\n",
    "print(generator_o.next())\n",
    "\n",
    "\n",
    "\n",
    "print(generator_o.next())\n",
    "\n",
    "\n",
    "\n",
    "print(generator_o.next())"
   ]
  }
 ],
 "metadata": {
  "kernelspec": {
   "display_name": "Python 2",
   "language": "python",
   "name": "python2"
  },
  "language_info": {
   "codemirror_mode": {
    "name": "ipython",
    "version": 2
   },
   "file_extension": ".py",
   "mimetype": "text/x-python",
   "name": "python",
   "nbconvert_exporter": "python",
   "pygments_lexer": "ipython2",
   "version": "2.7.6"
  }
 },
 "nbformat": 4,
 "nbformat_minor": 1
}
